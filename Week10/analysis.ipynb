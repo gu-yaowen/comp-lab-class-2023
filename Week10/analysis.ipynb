{
 "cells": [
  {
   "cell_type": "code",
   "execution_count": 1,
   "metadata": {},
   "outputs": [],
   "source": [
    "import psi4"
   ]
  },
  {
   "cell_type": "code",
   "execution_count": 4,
   "metadata": {},
   "outputs": [
    {
     "data": {
      "text/plain": [
       "PosixPath('output.dat')"
      ]
     },
     "execution_count": 4,
     "metadata": {},
     "output_type": "execute_result"
    }
   ],
   "source": [
    "psi4.set_output_file('output.dat', False)"
   ]
  },
  {
   "cell_type": "markdown",
   "metadata": {},
   "source": [
    "# II. Running a Basic Hartree-Fock Calculation"
   ]
  },
  {
   "cell_type": "code",
   "execution_count": 2,
   "metadata": {},
   "outputs": [
    {
     "name": "stdout",
     "output_type": "stream",
     "text": [
      "\n",
      "  Memory set to 476.837 MiB by Python driver.\n",
      "\n",
      "Scratch directory: /tmp/\n",
      "\n",
      "*** tstart() called on log-3\n",
      "*** at Thu Nov 16 13:31:09 2023\n",
      "\n",
      "   => Loading Basis Set <=\n",
      "\n",
      "    Name: CC-PVDZ\n",
      "    Role: ORBITAL\n",
      "    Keyword: BASIS\n",
      "    atoms 1   entry O          line   198 file /ext3/miniconda3/share/psi4/basis/cc-pvdz.gbs \n",
      "    atoms 2-3 entry H          line    22 file /ext3/miniconda3/share/psi4/basis/cc-pvdz.gbs \n",
      "\n",
      "\n",
      "         ---------------------------------------------------------\n",
      "                                   SCF\n",
      "               by Justin Turney, Rob Parrish, Andy Simmonett\n",
      "                          and Daniel G. A. Smith\n",
      "                              RHF Reference\n",
      "                        1 Threads,    476 MiB Core\n",
      "         ---------------------------------------------------------\n",
      "\n",
      "  ==> Geometry <==\n",
      "\n",
      "    Molecular point group: c2v\n",
      "    Full point group: C2v\n",
      "\n",
      "    Geometry (in Angstrom), charge = 0, multiplicity = 1:\n",
      "\n",
      "       Center              X                  Y                   Z               Mass       \n",
      "    ------------   -----------------  -----------------  -----------------  -----------------\n",
      "         O            0.000000000000     0.000000000000    -0.065775570547    15.994914619570\n",
      "         H            0.000000000000    -0.759061990794     0.521953018286     1.007825032230\n",
      "         H            0.000000000000     0.759061990794     0.521953018286     1.007825032230\n",
      "\n",
      "  Running in c2v symmetry.\n",
      "\n",
      "  Rotational constants: A =     27.26297  B =     14.51533  C =      9.47217 [cm^-1]\n",
      "  Rotational constants: A = 817323.21126  B = 435158.60141  C = 283968.37536 [MHz]\n",
      "  Nuclear repulsion =    9.168193296424349\n",
      "\n",
      "  Charge       = 0\n",
      "  Multiplicity = 1\n",
      "  Electrons    = 10\n",
      "  Nalpha       = 5\n",
      "  Nbeta        = 5\n",
      "\n",
      "  ==> Algorithm <==\n",
      "\n",
      "  SCF Algorithm Type is DF.\n",
      "  DIIS enabled.\n",
      "  MOM disabled.\n",
      "  Fractional occupation disabled.\n",
      "  Guess Type is SAD.\n",
      "  Energy threshold   = 1.00e-06\n",
      "  Density threshold  = 1.00e-06\n",
      "  Integral threshold = 1.00e-12\n",
      "\n",
      "  ==> Primary Basis <==\n",
      "\n",
      "  Basis Set: CC-PVDZ\n",
      "    Blend: CC-PVDZ\n",
      "    Number of shells: 12\n",
      "    Number of basis functions: 24\n",
      "    Number of Cartesian functions: 25\n",
      "    Spherical Harmonics?: true\n",
      "    Max angular momentum: 2\n",
      "\n",
      "   => Loading Basis Set <=\n",
      "\n",
      "    Name: (CC-PVDZ AUX)\n",
      "    Role: JKFIT\n",
      "    Keyword: DF_BASIS_SCF\n",
      "    atoms 1   entry O          line   221 file /ext3/miniconda3/share/psi4/basis/cc-pvdz-jkfit.gbs \n",
      "    atoms 2-3 entry H          line    51 file /ext3/miniconda3/share/psi4/basis/cc-pvdz-jkfit.gbs \n",
      "\n",
      "  ==> Integral Setup <==\n",
      "\n",
      "  DFHelper Memory: AOs need 0.001 GiB; user supplied 0.349 GiB. Using in-core AOs.\n",
      "\n",
      "  ==> MemDFJK: Density-Fitted J/K Matrices <==\n",
      "\n",
      "    J tasked:                   Yes\n",
      "    K tasked:                   Yes\n",
      "    wK tasked:                   No\n",
      "    OpenMP threads:               1\n",
      "    Memory [MiB]:               357\n",
      "    Algorithm:                 Core\n",
      "    Schwarz Cutoff:           1E-12\n",
      "    Mask sparsity (%):       0.0000\n",
      "    Fitting Condition:        1E-10\n",
      "\n",
      "   => Auxiliary Basis Set <=\n",
      "\n",
      "  Basis Set: (CC-PVDZ AUX)\n",
      "    Blend: CC-PVDZ-JKFIT\n",
      "    Number of shells: 42\n",
      "    Number of basis functions: 116\n",
      "    Number of Cartesian functions: 131\n",
      "    Spherical Harmonics?: true\n",
      "    Max angular momentum: 3\n",
      "\n",
      "  Minimum eigenvalue in the overlap matrix is 3.2707806872E-02.\n",
      "  Reciprocal condition number of the overlap matrix is 1.0389988226E-02.\n",
      "    Using symmetric orthogonalization.\n",
      "\n",
      "  ==> Pre-Iterations <==\n",
      "\n",
      "  SCF Guess: Superposition of Atomic Densities via on-the-fly atomic UHF (no occupation information).\n",
      "\n",
      "   -------------------------\n",
      "    Irrep   Nso     Nmo    \n",
      "   -------------------------\n",
      "     A1        11      11 \n",
      "     A2         2       2 \n",
      "     B1         4       4 \n",
      "     B2         7       7 \n",
      "   -------------------------\n",
      "    Total      24      24\n",
      "   -------------------------\n",
      "\n",
      "  ==> Iterations <==\n",
      "\n",
      "                           Total Energy        Delta E     RMS |[F,P]|\n",
      "\n",
      "   @DF-RHF iter SAD:   -75.50772041125677   -7.55077e+01   0.00000e+00 \n",
      "   @DF-RHF iter   1:   -75.95376270516475   -4.46042e-01   3.03066e-02 ADIIS/DIIS\n",
      "   @DF-RHF iter   2:   -76.00706363301668   -5.33009e-02   1.73566e-02 ADIIS/DIIS\n",
      "   @DF-RHF iter   3:   -76.02603257829324   -1.89689e-02   2.30937e-03 ADIIS/DIIS\n",
      "   @DF-RHF iter   4:   -76.02661197956323   -5.79401e-04   3.72696e-04 ADIIS/DIIS\n",
      "   @DF-RHF iter   5:   -76.02663177626309   -1.97967e-05   6.75689e-05 DIIS\n",
      "   @DF-RHF iter   6:   -76.02663270891105   -9.32648e-07   1.05815e-05 DIIS\n",
      "   @DF-RHF iter   7:   -76.02663273457695   -2.56659e-08   1.47100e-06 DIIS\n",
      "   @DF-RHF iter   8:   -76.02663273509020   -5.13253e-10   3.44832e-07 DIIS\n",
      "  Energy and wave function converged.\n",
      "\n",
      "\n",
      "  ==> Post-Iterations <==\n",
      "\n",
      "    Orbital Energies [Eh]\n",
      "    ---------------------\n",
      "\n",
      "    Doubly Occupied:                                                      \n",
      "\n",
      "       1A1   -20.550924     2A1    -1.335311     1B2    -0.697803  \n",
      "       3A1    -0.566087     1B1    -0.492948  \n",
      "\n",
      "    Virtual:                                                              \n",
      "\n",
      "       4A1     0.185107     2B2     0.255846     3B2     0.787337  \n",
      "       5A1     0.851826     6A1     1.163856     2B1     1.200425  \n",
      "       4B2     1.253574     7A1     1.445291     1A2     1.476011  \n",
      "       3B1     1.674661     8A1     1.868111     5B2     1.932579  \n",
      "       6B2     2.446530     9A1     2.483817     4B1     3.283958  \n",
      "       2A2     3.336670    10A1     3.507635    11A1     3.863421  \n",
      "       7B2     4.144760  \n",
      "\n",
      "    Final Occupation by Irrep:\n",
      "             A1    A2    B1    B2 \n",
      "    DOCC [     3,    0,    1,    1 ]\n",
      "    NA   [     3,    0,    1,    1 ]\n",
      "    NB   [     3,    0,    1,    1 ]\n",
      "\n",
      "  @DF-RHF Final Energy:   -76.02663273509020\n",
      "\n",
      "   => Energetics <=\n",
      "\n",
      "    Nuclear Repulsion Energy =              9.1681932964243487\n",
      "    One-Electron Energy =                -123.1035077420448118\n",
      "    Two-Electron Energy =                  37.9086817105302529\n",
      "    Total Energy =                        -76.0266327350902031\n",
      "\n",
      "Computation Completed\n",
      "\n",
      "\n",
      "Properties will be evaluated at   0.000000,   0.000000,   0.000000 [a0]\n",
      "\n",
      "Properties computed using the SCF density matrix\n",
      "\n",
      "\n",
      " Multipole Moments:\n",
      "\n",
      " ------------------------------------------------------------------------------------\n",
      "     Multipole            Electronic (a.u.)      Nuclear  (a.u.)        Total (a.u.)\n",
      " ------------------------------------------------------------------------------------\n",
      "\n",
      " L = 1.  Multiply by 2.5417464519 to convert [e a0] to [Debye]\n",
      " Dipole X            :          0.0000000            0.0000000            0.0000000\n",
      " Dipole Y            :          0.0000000            0.0000000            0.0000000\n",
      " Dipole Z            :         -0.1680325            0.9783140            0.8102815\n",
      " Magnitude           :                                                    0.8102815\n",
      "\n",
      " ------------------------------------------------------------------------------------\n",
      "\n",
      "*** tstop() called on log-3 at Thu Nov 16 13:31:11 2023\n",
      "Module time:\n",
      "\tuser time   =       0.35 seconds =       0.01 minutes\n",
      "\tsystem time =       0.28 seconds =       0.00 minutes\n",
      "\ttotal time  =          2 seconds =       0.03 minutes\n",
      "Total time:\n",
      "\tuser time   =       0.35 seconds =       0.01 minutes\n",
      "\tsystem time =       0.28 seconds =       0.00 minutes\n",
      "\ttotal time  =          2 seconds =       0.03 minutes\n"
     ]
    },
    {
     "data": {
      "text/plain": [
       "-76.0266327350902"
      ]
     },
     "execution_count": 2,
     "metadata": {},
     "output_type": "execute_result"
    }
   ],
   "source": [
    "#! Sample HF/cc-pVDZ H2O Computation\n",
    "\n",
    "psi4.set_memory('500 MB')\n",
    "\n",
    "h2o = psi4.geometry(\"\"\"\n",
    "O\n",
    "H 1 0.96\n",
    "H 1 0.96 2 104.5\n",
    "\"\"\")\n",
    "\n",
    "psi4.energy('scf/cc-pvdz')"
   ]
  },
  {
   "cell_type": "code",
   "execution_count": 5,
   "metadata": {},
   "outputs": [
    {
     "data": {
      "text/plain": [
       "-38.92533462893707"
      ]
     },
     "execution_count": 5,
     "metadata": {},
     "output_type": "execute_result"
    }
   ],
   "source": [
    "#! Sample UHF/6-31G** CH2 Computation\n",
    "\n",
    "R = 1.075\n",
    "A = 133.93\n",
    "\n",
    "ch2 = psi4.geometry(\"\"\"\n",
    "0 3\n",
    "C\n",
    "H 1 {0}\n",
    "H 1 {0} 2 {1}\n",
    "\"\"\".format(R, A)\n",
    ")\n",
    "\n",
    "psi4.set_options({'reference': 'uhf'})\n",
    "psi4.energy('scf/6-31g**')"
   ]
  },
  {
   "cell_type": "markdown",
   "metadata": {},
   "source": [
    "# III. Geometry Optimization and Vibrational Frequency Analysis"
   ]
  },
  {
   "cell_type": "code",
   "execution_count": 6,
   "metadata": {},
   "outputs": [
    {
     "name": "stdout",
     "output_type": "stream",
     "text": [
      "Optimizer: Optimization complete!\n"
     ]
    },
    {
     "data": {
      "text/plain": [
       "-76.02703272937481"
      ]
     },
     "execution_count": 6,
     "metadata": {},
     "output_type": "execute_result"
    }
   ],
   "source": [
    "psi4.set_options({'reference': 'rhf'})\n",
    "psi4.optimize('scf/cc-pvdz', molecule=h2o)"
   ]
  },
  {
   "cell_type": "code",
   "execution_count": 7,
   "metadata": {},
   "outputs": [],
   "source": [
    "scf_e, scf_wfn = psi4.frequency('scf/cc-pvdz', \n",
    "                                molecule=h2o,\n",
    "                                return_wfn=True)"
   ]
  },
  {
   "cell_type": "code",
   "execution_count": null,
   "metadata": {},
   "outputs": [],
   "source": []
  }
 ],
 "metadata": {
  "kernelspec": {
   "display_name": "lab_env_2023",
   "language": "python",
   "name": "lab_env_2023"
  },
  "language_info": {
   "codemirror_mode": {
    "name": "ipython",
    "version": 3
   },
   "file_extension": ".py",
   "mimetype": "text/x-python",
   "name": "python",
   "nbconvert_exporter": "python",
   "pygments_lexer": "ipython3",
   "version": "3.9.12"
  },
  "orig_nbformat": 4
 },
 "nbformat": 4,
 "nbformat_minor": 2
}
