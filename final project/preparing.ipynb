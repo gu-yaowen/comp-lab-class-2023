{
 "cells": [
  {
   "cell_type": "code",
   "execution_count": 48,
   "metadata": {},
   "outputs": [],
   "source": [
    "import os\n",
    "from rdkit import Chem\n",
    "from rdkit.Chem import AllChem"
   ]
  },
  {
   "cell_type": "code",
   "execution_count": 58,
   "metadata": {},
   "outputs": [
    {
     "data": {
      "text/plain": [
       "0"
      ]
     },
     "execution_count": 58,
     "metadata": {},
     "output_type": "execute_result"
    }
   ],
   "source": [
    "# setting\n",
    "path = os.getcwd()\n",
    "pdb = '7ugw'\n",
    "lig1 = 'alatrofloxacin'\n",
    "lig2 = 'quarfloxin'\n",
    "\n",
    "# preparing protein\n",
    "os.system(f'PATH=\"$PATH\":{path}/ADFRsuite/bin')\n",
    "os.system(f'ADFRsuite/bin/prepare_receptor -r data/{pdb}.pdb -o {pdb}.pdbqt')"
   ]
  },
  {
   "cell_type": "code",
   "execution_count": null,
   "metadata": {},
   "outputs": [],
   "source": [
    "def cas2smiles(cas):\n",
    "    import pubchempy as pcp\n",
    "    # this is used for the ligand with CAS number but without SMILES\n",
    "    com = pcp.get_compounds(cas, 'name')\n",
    "    return com[0].isomeric_smiles\n",
    "\n",
    "def smiles2pdb(smiles, name):\n",
    "    mol = Chem.MolFromSmiles(smiles)\n",
    "    mol = Chem.AddHs(mol)\n",
    "    AllChem.EmbedMolecule(mol, randomSeed=1)\n",
    "    mol.SetProp('SMILES', smiles)\n",
    "    mol = Chem.MolToPDBBlock(mol)\n",
    "    print(mol, file=open(f\"data/{name}.pdb\", \"w\"))\n",
    "    return\n",
    "\n",
    "def smiles2pdb_optimized(smiles, name):\n",
    "    # this is used for applying MMFF94 force field to optimize the ligand conformation\n",
    "    mol = Chem.MolFromSmiles(smiles)\n",
    "    mol = Chem.AddHs(mol)\n",
    "    AllChem.EmbedMultipleConfs(mol, numConfs=numConfs,\n",
    "                                useRandomCoords=True,\n",
    "                                maxAttempts=maxAttempts,\n",
    "                                enforceChirality=True,\n",
    "                                useExpTorsionAnglePrefs=True,\n",
    "                                useBasicKnowledge=False)\n",
    "    for conf in mol.GetConformers():\n",
    "        new_mol = Chem.Mol(mol)\n",
    "        new_mol.RemoveAllConformers()\n",
    "        new_mol.AddConformer(conf)\n",
    "        AllChem.MMFFOptimizeMolecule(new_mol)\n",
    "    mol = new_mol.GetConformers()[0]\n",
    "    mol.SetProp('SMILES', smiles)\n",
    "    mol = Chem.MolToPDBBlock(mol)\n",
    "    print(mol, file=open(f\"data/{name}.pdb\", \"w\"))\n",
    "    return\n",
    "\n",
    "# load ligand\n",
    "df = pd.read_csv('data/ligands.csv')\n",
    "ligand1, ligand2 = df['SMILES'].values.tolist()\n",
    "smiles2pdb(ligand1, lig1)\n",
    "smiles2pdb(ligand2, lig2)\n",
    "\n",
    "# preparing ligand\n",
    "os.system(f'ADFRsuite/bin/prepare_ligand -l data/{lig1}.pdb -o {lig1}.pdbqt')\n",
    "os.system(f'ADFRsuite/bin/prepare_ligand -l data/{lig2}.pdb -o {lig2}.pdbqt')"
   ]
  },
  {
   "cell_type": "code",
   "execution_count": null,
   "metadata": {},
   "outputs": [],
   "source": [
    "# get grid center\n",
    "os.system(f'pythonsh prepare_gpf.py -r data/{pdb}.pdbqt -l {lig1}.pdbqt -y')\n",
    "with open('7ugw.gpf', 'r') as f:\n",
    "    for i in f.readlines():\n",
    "        if i.startswith('gridcenter'):\n",
    "            coord = [float(j) for j in i.split(' ')[1:4]]\n",
    "f.close()\n",
    "print(coord)\n",
    "\n",
    "os.system(f'pythonsh prepare_gpf.py -r data/{pdb}.pdbqt -l {lig2}.pdbqt -y')\n",
    "with open('7ugw.gpf', 'r') as f:\n",
    "    for i in f.readlines():\n",
    "        if i.startswith('gridcenter'):\n",
    "            coord = [float(j) for j in i.split(' ')[1:4]]\n",
    "f.close()\n",
    "print(coord)"
   ]
  },
  {
   "cell_type": "code",
   "execution_count": null,
   "metadata": {},
   "outputs": [],
   "source": []
  }
 ],
 "metadata": {
  "kernelspec": {
   "display_name": "Python 3",
   "language": "python",
   "name": "python3"
  },
  "language_info": {
   "codemirror_mode": {
    "name": "ipython",
    "version": 3
   },
   "file_extension": ".py",
   "mimetype": "text/x-python",
   "name": "python",
   "nbconvert_exporter": "python",
   "pygments_lexer": "ipython3",
   "version": "3.7.10"
  }
 },
 "nbformat": 4,
 "nbformat_minor": 4
}
