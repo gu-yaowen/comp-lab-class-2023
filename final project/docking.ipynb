{
 "cells": [
  {
   "cell_type": "code",
   "execution_count": null,
   "metadata": {},
   "outputs": [],
   "source": [
    "from vina import Vina\n",
    "import pubchempy as pcp\n",
    "from rdkit import Chem\n",
    "from rdkit.Chem import AllChem\n",
    "import os"
   ]
  },
  {
   "cell_type": "code",
   "execution_count": null,
   "metadata": {},
   "outputs": [],
   "source": [
    "ligand_list = ['']\n",
    "for file in ligand_list:\n",
    "    cid = file.split('.')[0]\n",
    "    v = Vina(sf_name='vina')\n",
    "    v.set_receptor('data/1ygs.pdbqt')\n",
    "    v.set_ligand_from_file(f'data/{file}')\n",
    "    v.compute_vina_maps(center=[23.152, 20.669, 54.236], box_size=[20, 20, 20])\n",
    "    # Score the current pose\n",
    "    energy = v.score()\n",
    "    print('Score before minimization: %.3f (kcal/mol)' % energy[0])\n",
    "\n",
    "    # Minimized locally the current pose\n",
    "    energy_minimized = v.optimize()\n",
    "    print('Score after minimization : %.3f (kcal/mol)' % energy_minimized[0])\n",
    "    v.write_pose(f'data\\{file}_minimized.pdbqt', \n",
    "                    overwrite=True)\n",
    "\n",
    "    # Dock the ligand\n",
    "    v.dock(exhaustiveness=32, n_poses=20)\n",
    "    v.write_poses(f'data\\{file}_vina_out.pdbqt', \n",
    "                    n_poses=5, overwrite=True)"
   ]
  },
  {
   "cell_type": "code",
   "execution_count": null,
   "metadata": {},
   "outputs": [],
   "source": []
  }
 ],
 "metadata": {
  "kernelspec": {
   "display_name": "chem_gyw",
   "language": "python",
   "name": "chem_gyw"
  },
  "language_info": {
   "name": "python",
   "version": "3.8.18"
  }
 },
 "nbformat": 4,
 "nbformat_minor": 2
}
