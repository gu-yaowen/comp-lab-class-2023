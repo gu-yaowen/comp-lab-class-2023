{
 "cells": [
  {
   "cell_type": "code",
   "execution_count": 1,
   "metadata": {},
   "outputs": [
    {
     "name": "stderr",
     "output_type": "stream",
     "text": [
      "/ext3/miniconda3/lib/python3.9/site-packages/tqdm/auto.py:22: TqdmWarning: IProgress not found. Please update jupyter and ipywidgets. See https://ipywidgets.readthedocs.io/en/stable/user_install.html\n",
      "  from .autonotebook import tqdm as notebook_tqdm\n"
     ]
    }
   ],
   "source": [
    "import MDAnalysis\n",
    "import MDAnalysis.analysis.rdf\n",
    "import MDAnalysis.analysis.msd"
   ]
  },
  {
   "cell_type": "code",
   "execution_count": 4,
   "metadata": {},
   "outputs": [
    {
     "ename": "ValueError",
     "evalue": "'LAMMPSTRJ' isn't a valid topology format, nor a coordinate format\n   from which a topology can be minimally inferred.\n   You can use 'Universe(topology, ..., topology_format=FORMAT)'\n   to explicitly specify the format and\n   override automatic detection. Known FORMATs are:\n   dict_keys(['PSF', 'TOP', 'PRMTOP', 'PARM7', 'PDB', 'ENT', 'XPDB', 'PQR', 'GRO', 'CRD', 'PDBQT', 'DMS', 'TPR', 'MOL2', 'DATA', 'LAMMPSDUMP', 'XYZ', 'TXYZ', 'ARC', 'GMS', 'CONFIG', 'HISTORY', 'XML', 'MMTF', 'GSD', 'MINIMAL', 'ITP', 'IN', 'FHIAIMS', 'PARMED', 'RDKIT', 'OPENMMTOPOLOGY', 'OPENMMAPP'])\n   See https://docs.mdanalysis.org/documentation_pages/topology/init.html#supported-topology-formats\n   For missing formats, raise an issue at \n   https://github.com/MDAnalysis/mdanalysis/issues",
     "output_type": "error",
     "traceback": [
      "\u001b[0;31m---------------------------------------------------------------------------\u001b[0m",
      "\u001b[0;31mValueError\u001b[0m                                Traceback (most recent call last)",
      "\u001b[1;32m/home/yg3191/chem-class-2023/yg3191/comp-lab-class-2023/Week9/Analysis/analysis.ipynb 单元格 2\u001b[0m line \u001b[0;36m1\n\u001b[0;32m----> <a href='vscode-notebook-cell://ssh-remote%2Bgreene-compute/home/yg3191/chem-class-2023/yg3191/comp-lab-class-2023/Week9/Analysis/analysis.ipynb#X13sdnNjb2RlLXJlbW90ZQ%3D%3D?line=0'>1</a>\u001b[0m MDAnalysis\u001b[39m.\u001b[39;49mUniverse(\u001b[39m\"\u001b[39;49m\u001b[39m../Data/equil/kalj_T1.5_n360_v300_10000_1.lammpstrj\u001b[39;49m\u001b[39m\"\u001b[39;49m,\n\u001b[1;32m      <a href='vscode-notebook-cell://ssh-remote%2Bgreene-compute/home/yg3191/chem-class-2023/yg3191/comp-lab-class-2023/Week9/Analysis/analysis.ipynb#X13sdnNjb2RlLXJlbW90ZQ%3D%3D?line=1'>2</a>\u001b[0m                     \u001b[39m\"\u001b[39;49m\u001b[39m../Data/prod/kalj_T1.5_n360_v300_prod_10000_1.unwrap.dcd\u001b[39;49m\u001b[39m\"\u001b[39;49m,\n\u001b[1;32m      <a href='vscode-notebook-cell://ssh-remote%2Bgreene-compute/home/yg3191/chem-class-2023/yg3191/comp-lab-class-2023/Week9/Analysis/analysis.ipynb#X13sdnNjb2RlLXJlbW90ZQ%3D%3D?line=2'>3</a>\u001b[0m                     \u001b[39mformat\u001b[39;49m\u001b[39m=\u001b[39;49m\u001b[39m\"\u001b[39;49m\u001b[39mLAMMPSDUMP\u001b[39;49m\u001b[39m\"\u001b[39;49m)\n",
      "File \u001b[0;32m/ext3/miniconda3/lib/python3.9/site-packages/MDAnalysis/core/universe.py:346\u001b[0m, in \u001b[0;36mUniverse.__init__\u001b[0;34m(self, topology, all_coordinates, format, topology_format, transformations, guess_bonds, vdwradii, in_memory, in_memory_step, *coordinates, **kwargs)\u001b[0m\n\u001b[1;32m    344\u001b[0m \u001b[39mif\u001b[39;00m \u001b[39mnot\u001b[39;00m \u001b[39misinstance\u001b[39m(topology, Topology) \u001b[39mand\u001b[39;00m \u001b[39mnot\u001b[39;00m topology \u001b[39mis\u001b[39;00m \u001b[39mNone\u001b[39;00m:\n\u001b[1;32m    345\u001b[0m     \u001b[39mself\u001b[39m\u001b[39m.\u001b[39mfilename \u001b[39m=\u001b[39m _check_file_like(topology)\n\u001b[0;32m--> 346\u001b[0m     topology \u001b[39m=\u001b[39m _topology_from_file_like(\u001b[39mself\u001b[39;49m\u001b[39m.\u001b[39;49mfilename,\n\u001b[1;32m    347\u001b[0m                                         topology_format\u001b[39m=\u001b[39;49mtopology_format,\n\u001b[1;32m    348\u001b[0m                                         \u001b[39m*\u001b[39;49m\u001b[39m*\u001b[39;49mkwargs)\n\u001b[1;32m    350\u001b[0m \u001b[39mif\u001b[39;00m topology \u001b[39mis\u001b[39;00m \u001b[39mnot\u001b[39;00m \u001b[39mNone\u001b[39;00m:\n\u001b[1;32m    351\u001b[0m     \u001b[39mself\u001b[39m\u001b[39m.\u001b[39m_topology \u001b[39m=\u001b[39m topology\n",
      "File \u001b[0;32m/ext3/miniconda3/lib/python3.9/site-packages/MDAnalysis/core/universe.py:106\u001b[0m, in \u001b[0;36m_topology_from_file_like\u001b[0;34m(topology_file, topology_format, **kwargs)\u001b[0m\n\u001b[1;32m    104\u001b[0m \u001b[39mdef\u001b[39;00m \u001b[39m_topology_from_file_like\u001b[39m(topology_file, topology_format\u001b[39m=\u001b[39m\u001b[39mNone\u001b[39;00m,\n\u001b[1;32m    105\u001b[0m                              \u001b[39m*\u001b[39m\u001b[39m*\u001b[39mkwargs):\n\u001b[0;32m--> 106\u001b[0m     parser \u001b[39m=\u001b[39m get_parser_for(topology_file, \u001b[39mformat\u001b[39;49m\u001b[39m=\u001b[39;49mtopology_format)\n\u001b[1;32m    108\u001b[0m     \u001b[39mtry\u001b[39;00m:\n\u001b[1;32m    109\u001b[0m         \u001b[39mwith\u001b[39;00m parser(topology_file) \u001b[39mas\u001b[39;00m p:\n",
      "File \u001b[0;32m/ext3/miniconda3/lib/python3.9/site-packages/MDAnalysis/core/_get_readers.py:256\u001b[0m, in \u001b[0;36mget_parser_for\u001b[0;34m(filename, format)\u001b[0m\n\u001b[1;32m    244\u001b[0m \u001b[39mexcept\u001b[39;00m \u001b[39mValueError\u001b[39;00m:\n\u001b[1;32m    245\u001b[0m     errmsg \u001b[39m=\u001b[39m (\n\u001b[1;32m    246\u001b[0m         \u001b[39m\"\u001b[39m\u001b[39m'\u001b[39m\u001b[39m{0}\u001b[39;00m\u001b[39m'\u001b[39m\u001b[39m isn\u001b[39m\u001b[39m'\u001b[39m\u001b[39mt a valid topology format, nor a coordinate format\u001b[39m\u001b[39m\\n\u001b[39;00m\u001b[39m\"\u001b[39m\n\u001b[1;32m    247\u001b[0m         \u001b[39m\"\u001b[39m\u001b[39m   from which a topology can be minimally inferred.\u001b[39m\u001b[39m\\n\u001b[39;00m\u001b[39m\"\u001b[39m\n\u001b[0;32m   (...)\u001b[0m\n\u001b[1;32m    254\u001b[0m         \u001b[39m\"\u001b[39m\u001b[39m   https://github.com/MDAnalysis/mdanalysis/issues\u001b[39m\u001b[39m\"\u001b[39m\u001b[39m.\u001b[39mformat(\n\u001b[1;32m    255\u001b[0m             \u001b[39mformat\u001b[39m, _PARSERS\u001b[39m.\u001b[39mkeys()))\n\u001b[0;32m--> 256\u001b[0m     \u001b[39mraise\u001b[39;00m \u001b[39mValueError\u001b[39;00m(errmsg) \u001b[39mfrom\u001b[39;00m \u001b[39mNone\u001b[39m\n\u001b[1;32m    257\u001b[0m \u001b[39melse\u001b[39;00m:\n\u001b[1;32m    258\u001b[0m     \u001b[39mreturn\u001b[39;00m _PARSERS[\u001b[39m'\u001b[39m\u001b[39mMINIMAL\u001b[39m\u001b[39m'\u001b[39m]\n",
      "\u001b[0;31mValueError\u001b[0m: 'LAMMPSTRJ' isn't a valid topology format, nor a coordinate format\n   from which a topology can be minimally inferred.\n   You can use 'Universe(topology, ..., topology_format=FORMAT)'\n   to explicitly specify the format and\n   override automatic detection. Known FORMATs are:\n   dict_keys(['PSF', 'TOP', 'PRMTOP', 'PARM7', 'PDB', 'ENT', 'XPDB', 'PQR', 'GRO', 'CRD', 'PDBQT', 'DMS', 'TPR', 'MOL2', 'DATA', 'LAMMPSDUMP', 'XYZ', 'TXYZ', 'ARC', 'GMS', 'CONFIG', 'HISTORY', 'XML', 'MMTF', 'GSD', 'MINIMAL', 'ITP', 'IN', 'FHIAIMS', 'PARMED', 'RDKIT', 'OPENMMTOPOLOGY', 'OPENMMAPP'])\n   See https://docs.mdanalysis.org/documentation_pages/topology/init.html#supported-topology-formats\n   For missing formats, raise an issue at \n   https://github.com/MDAnalysis/mdanalysis/issues"
     ]
    }
   ],
   "source": [
    "MDAnalysis.Universe(\"../Data/equil/kalj_T1.5_n360_v300_10000_1.lammpstrj\",\n",
    "                    \"../Data/prod/kalj_T1.5_n360_v300_prod_10000_1.unwrap.dcd\",\n",
    "                    format=\"LAMMPSDUMP\")"
   ]
  },
  {
   "cell_type": "code",
   "execution_count": 2,
   "metadata": {},
   "outputs": [
    {
     "name": "stderr",
     "output_type": "stream",
     "text": [
      "/ext3/miniconda3/lib/python3.9/site-packages/MDAnalysis/topology/LAMMPSParser.py:631: UserWarning: Guessed all Masses to 1.0\n",
      "  warnings.warn('Guessed all Masses to 1.0')\n"
     ]
    }
   ],
   "source": [
    "run = {'1.5': '10000', '1': '50000',\n",
    "       '0.9': '150000', '0.8': '150000', \n",
    "       '0.7': '180000', '0.65': '350000', \n",
    "       '0.6': '1000000', '0.55': '3000000', \n",
    "       '0.5': '10000000', '0.475': '30000000', \n",
    "       '0.45': '100000000'}\n",
    "equi_data = dict(zip(run.keys(), [None]*len(run.keys())))\n",
    "prod_data = dict(zip(run.keys(), [None]*len(run.keys())))\n",
    "for t in [1.5, 1, 0.9, 0.8, 0.7, 0.65, 0.6, 0.55, 0.5, 0.475]:\n",
    "    equi_data[str(t)] = MDAnalysis.Universe(f\"../Data/equil/kalj_T{t}_n360_v300_{run[str(t)]}_1.lammpstrj\",\n",
    "                    format=\"LAMMPSDUMP\")\n",
    "    prod_data[str(t)] = MDAnalysis.Universe(f\"../Data/prod/kalj_T{t}_n360_v300_prod_{run[str(t)]}_1.unwrap.dcd\")"
   ]
  },
  {
   "cell_type": "code",
   "execution_count": 24,
   "metadata": {},
   "outputs": [],
   "source": [
    "def cal_rdf(prod_data):\n",
    "    type1 = prod_data.select_atoms(\"type 1\")\n",
    "    type2 = prod_data.select_atoms(\"type 2\")\n",
    "\n",
    "    rdf_bins = 200\n",
    "    rdf_range = (0.0, 15.0)\n",
    "\n",
    "    rdf_11 = rdf.InterRDF(type_1, type_1, nbins=rdf_bins, range=rdf_range).run()\n",
    "    rdf_22 = rdf.InterRDF(type_2, type_2, nbins=rdf_bins, range=rdf_range).run()\n",
    "    rdf_12 = rdf.InterRDF(type_1, type_2, nbins=rdf_bins, range=rdf_range).run()\n",
    "    return rdf_11, rdf_22, rdf_12"
   ]
  },
  {
   "cell_type": "code",
   "execution_count": 27,
   "metadata": {},
   "outputs": [
    {
     "ename": "AttributeError",
     "evalue": "'Topology' object has no attribute 'types'",
     "output_type": "error",
     "traceback": [
      "\u001b[0;31m---------------------------------------------------------------------------\u001b[0m",
      "\u001b[0;31mAttributeError\u001b[0m                            Traceback (most recent call last)",
      "\u001b[1;32m/home/yg3191/chem-class-2023/yg3191/comp-lab-class-2023/Week9/Analysis/analysis.ipynb 单元格 4\u001b[0m line \u001b[0;36m1\n\u001b[0;32m----> <a href='vscode-notebook-cell://ssh-remote%2Bgreene.hpc.nyu.edu/home/yg3191/chem-class-2023/yg3191/comp-lab-class-2023/Week9/Analysis/analysis.ipynb#X11sdnNjb2RlLXJlbW90ZQ%3D%3D?line=0'>1</a>\u001b[0m cal_rdf(prod_data[\u001b[39m'\u001b[39;49m\u001b[39m1.5\u001b[39;49m\u001b[39m'\u001b[39;49m])\n",
      "\u001b[1;32m/home/yg3191/chem-class-2023/yg3191/comp-lab-class-2023/Week9/Analysis/analysis.ipynb 单元格 4\u001b[0m line \u001b[0;36m2\n\u001b[1;32m      <a href='vscode-notebook-cell://ssh-remote%2Bgreene.hpc.nyu.edu/home/yg3191/chem-class-2023/yg3191/comp-lab-class-2023/Week9/Analysis/analysis.ipynb#X11sdnNjb2RlLXJlbW90ZQ%3D%3D?line=0'>1</a>\u001b[0m \u001b[39mdef\u001b[39;00m \u001b[39mcal_rdf\u001b[39m(prod_data):\n\u001b[0;32m----> <a href='vscode-notebook-cell://ssh-remote%2Bgreene.hpc.nyu.edu/home/yg3191/chem-class-2023/yg3191/comp-lab-class-2023/Week9/Analysis/analysis.ipynb#X11sdnNjb2RlLXJlbW90ZQ%3D%3D?line=1'>2</a>\u001b[0m     type1 \u001b[39m=\u001b[39m prod_data\u001b[39m.\u001b[39;49mselect_atoms(\u001b[39m\"\u001b[39;49m\u001b[39mtype 1\u001b[39;49m\u001b[39m\"\u001b[39;49m)\n\u001b[1;32m      <a href='vscode-notebook-cell://ssh-remote%2Bgreene.hpc.nyu.edu/home/yg3191/chem-class-2023/yg3191/comp-lab-class-2023/Week9/Analysis/analysis.ipynb#X11sdnNjb2RlLXJlbW90ZQ%3D%3D?line=2'>3</a>\u001b[0m     type2 \u001b[39m=\u001b[39m prod_data\u001b[39m.\u001b[39mselect_atoms(\u001b[39m\"\u001b[39m\u001b[39mtype 2\u001b[39m\u001b[39m\"\u001b[39m)\n\u001b[1;32m      <a href='vscode-notebook-cell://ssh-remote%2Bgreene.hpc.nyu.edu/home/yg3191/chem-class-2023/yg3191/comp-lab-class-2023/Week9/Analysis/analysis.ipynb#X11sdnNjb2RlLXJlbW90ZQ%3D%3D?line=4'>5</a>\u001b[0m     rdf_bins \u001b[39m=\u001b[39m \u001b[39m200\u001b[39m\n",
      "File \u001b[0;32m/ext3/miniconda3/lib/python3.9/site-packages/MDAnalysis/core/universe.py:658\u001b[0m, in \u001b[0;36mUniverse.select_atoms\u001b[0;34m(self, *args, **kwargs)\u001b[0m\n\u001b[1;32m    651\u001b[0m \u001b[39mdef\u001b[39;00m \u001b[39mselect_atoms\u001b[39m(\u001b[39mself\u001b[39m, \u001b[39m*\u001b[39margs, \u001b[39m*\u001b[39m\u001b[39m*\u001b[39mkwargs):\n\u001b[1;32m    652\u001b[0m     \u001b[39m\"\"\"Select atoms.\u001b[39;00m\n\u001b[1;32m    653\u001b[0m \n\u001b[1;32m    654\u001b[0m \u001b[39m    See Also\u001b[39;00m\n\u001b[1;32m    655\u001b[0m \u001b[39m    --------\u001b[39;00m\n\u001b[1;32m    656\u001b[0m \u001b[39m    :meth:`MDAnalysis.core.groups.AtomGroup.select_atoms`\u001b[39;00m\n\u001b[1;32m    657\u001b[0m \u001b[39m    \"\"\"\u001b[39;00m\n\u001b[0;32m--> 658\u001b[0m     \u001b[39mreturn\u001b[39;00m \u001b[39mself\u001b[39;49m\u001b[39m.\u001b[39;49matoms\u001b[39m.\u001b[39;49mselect_atoms(\u001b[39m*\u001b[39;49margs, \u001b[39m*\u001b[39;49m\u001b[39m*\u001b[39;49mkwargs)\n",
      "File \u001b[0;32m/ext3/miniconda3/lib/python3.9/site-packages/MDAnalysis/core/groups.py:3228\u001b[0m, in \u001b[0;36mAtomGroup.select_atoms\u001b[0;34m(self, sel, periodic, rtol, atol, updating, sorted, rdkit_kwargs, smarts_kwargs, *othersel, **selgroups)\u001b[0m\n\u001b[1;32m   3224\u001b[0m     atomgrp \u001b[39m=\u001b[39m UpdatingAtomGroup(\u001b[39mself\u001b[39m, selections, sel_strs)\n\u001b[1;32m   3225\u001b[0m \u001b[39melse\u001b[39;00m:\n\u001b[1;32m   3226\u001b[0m     \u001b[39m# Apply the first selection and sum to it\u001b[39;00m\n\u001b[1;32m   3227\u001b[0m     atomgrp \u001b[39m=\u001b[39m \u001b[39msum\u001b[39m([sel\u001b[39m.\u001b[39mapply(\u001b[39mself\u001b[39m) \u001b[39mfor\u001b[39;00m sel \u001b[39min\u001b[39;00m selections[\u001b[39m1\u001b[39m:]],\n\u001b[0;32m-> 3228\u001b[0m                   selections[\u001b[39m0\u001b[39;49m]\u001b[39m.\u001b[39;49mapply(\u001b[39mself\u001b[39;49m))\n\u001b[1;32m   3229\u001b[0m \u001b[39mreturn\u001b[39;00m atomgrp\n",
      "File \u001b[0;32m/ext3/miniconda3/lib/python3.9/site-packages/MDAnalysis/core/selection.py:241\u001b[0m, in \u001b[0;36mSelection.apply\u001b[0;34m(self, *args, **kwargs)\u001b[0m\n\u001b[1;32m    240\u001b[0m \u001b[39mdef\u001b[39;00m \u001b[39mapply\u001b[39m(\u001b[39mself\u001b[39m, \u001b[39m*\u001b[39margs, \u001b[39m*\u001b[39m\u001b[39m*\u001b[39mkwargs):\n\u001b[0;32m--> 241\u001b[0m     \u001b[39mreturn\u001b[39;00m \u001b[39mself\u001b[39;49m\u001b[39m.\u001b[39;49m_apply(\u001b[39m*\u001b[39;49margs, \u001b[39m*\u001b[39;49m\u001b[39m*\u001b[39;49mkwargs)\u001b[39m.\u001b[39masunique(\u001b[39msorted\u001b[39m\u001b[39m=\u001b[39m\u001b[39mself\u001b[39m\u001b[39m.\u001b[39mparser\u001b[39m.\u001b[39msorted)\n",
      "File \u001b[0;32m/ext3/miniconda3/lib/python3.9/site-packages/MDAnalysis/core/selection.py:221\u001b[0m, in \u001b[0;36mreturn_empty_on_apply.<locals>._apply\u001b[0;34m(self, group)\u001b[0m\n\u001b[1;32m    219\u001b[0m \u001b[39mif\u001b[39;00m \u001b[39mlen\u001b[39m(group) \u001b[39m==\u001b[39m \u001b[39m0\u001b[39m:\n\u001b[1;32m    220\u001b[0m     \u001b[39mreturn\u001b[39;00m group\n\u001b[0;32m--> 221\u001b[0m \u001b[39mreturn\u001b[39;00m func(\u001b[39mself\u001b[39;49m, group)\n",
      "File \u001b[0;32m/ext3/miniconda3/lib/python3.9/site-packages/MDAnalysis/core/selection.py:609\u001b[0m, in \u001b[0;36m_ProtoStringSelection._apply\u001b[0;34m(self, group)\u001b[0m\n\u001b[1;32m    606\u001b[0m \u001b[39m@return_empty_on_apply\u001b[39m\n\u001b[1;32m    607\u001b[0m \u001b[39mdef\u001b[39;00m \u001b[39m_apply\u001b[39m(\u001b[39mself\u001b[39m, group):\n\u001b[1;32m    608\u001b[0m     \u001b[39m# rather than work on group.names, cheat and look at the lookup table\u001b[39;00m\n\u001b[0;32m--> 609\u001b[0m     nmattr \u001b[39m=\u001b[39m \u001b[39mgetattr\u001b[39;49m(group\u001b[39m.\u001b[39;49muniverse\u001b[39m.\u001b[39;49m_topology, \u001b[39mself\u001b[39;49m\u001b[39m.\u001b[39;49mfield)\n\u001b[1;32m    611\u001b[0m     matches \u001b[39m=\u001b[39m []  \u001b[39m# list of passing indices\u001b[39;00m\n\u001b[1;32m    612\u001b[0m     \u001b[39m# iterate through set of known atom names, check which pass\u001b[39;00m\n",
      "\u001b[0;31mAttributeError\u001b[0m: 'Topology' object has no attribute 'types'"
     ]
    }
   ],
   "source": [
    "cal_rdf(prod_data['1.5'])"
   ]
  },
  {
   "cell_type": "markdown",
   "metadata": {},
   "source": []
  },
  {
   "cell_type": "code",
   "execution_count": 38,
   "metadata": {},
   "outputs": [
    {
     "ename": "AttributeError",
     "evalue": "AtomGroup has no attribute describe. ",
     "output_type": "error",
     "traceback": [
      "\u001b[0;31m---------------------------------------------------------------------------\u001b[0m",
      "\u001b[0;31mAttributeError\u001b[0m                            Traceback (most recent call last)",
      "\u001b[1;32m/home/yg3191/chem-class-2023/yg3191/comp-lab-class-2023/Week9/Analysis/analysis.ipynb 单元格 5\u001b[0m line \u001b[0;36m1\n\u001b[0;32m----> <a href='vscode-notebook-cell://ssh-remote%2Bgreene.hpc.nyu.edu/home/yg3191/chem-class-2023/yg3191/comp-lab-class-2023/Week9/Analysis/analysis.ipynb#X12sdnNjb2RlLXJlbW90ZQ%3D%3D?line=0'>1</a>\u001b[0m prod_data[\u001b[39m'\u001b[39;49m\u001b[39m1.5\u001b[39;49m\u001b[39m'\u001b[39;49m]\u001b[39m.\u001b[39;49matoms\u001b[39m.\u001b[39;49mdescribe()\n",
      "File \u001b[0;32m/ext3/miniconda3/lib/python3.9/site-packages/MDAnalysis/core/groups.py:2537\u001b[0m, in \u001b[0;36mAtomGroup.__getattr__\u001b[0;34m(self, attr)\u001b[0m\n\u001b[1;32m   2535\u001b[0m \u001b[39melif\u001b[39;00m attr \u001b[39m==\u001b[39m \u001b[39m'\u001b[39m\u001b[39mpositions\u001b[39m\u001b[39m'\u001b[39m:\n\u001b[1;32m   2536\u001b[0m     \u001b[39mraise\u001b[39;00m NoDataError(\u001b[39m'\u001b[39m\u001b[39mThis Universe has no coordinates\u001b[39m\u001b[39m'\u001b[39m)\n\u001b[0;32m-> 2537\u001b[0m \u001b[39mreturn\u001b[39;00m \u001b[39msuper\u001b[39;49m(AtomGroup, \u001b[39mself\u001b[39;49m)\u001b[39m.\u001b[39;49m\u001b[39m__getattr__\u001b[39;49m(attr)\n",
      "File \u001b[0;32m/ext3/miniconda3/lib/python3.9/site-packages/MDAnalysis/core/groups.py:611\u001b[0m, in \u001b[0;36mGroupBase.__getattr__\u001b[0;34m(self, attr)\u001b[0m\n\u001b[1;32m    609\u001b[0m         \u001b[39mraise\u001b[39;00m NoDataError(err\u001b[39m.\u001b[39mformat(singular\u001b[39m=\u001b[39m\u001b[39mcls\u001b[39m\u001b[39m.\u001b[39msingular))\n\u001b[1;32m    610\u001b[0m \u001b[39melse\u001b[39;00m:\n\u001b[0;32m--> 611\u001b[0m     \u001b[39mreturn\u001b[39;00m \u001b[39msuper\u001b[39;49m(GroupBase, \u001b[39mself\u001b[39;49m)\u001b[39m.\u001b[39;49m\u001b[39m__getattr__\u001b[39;49m(attr)\n",
      "File \u001b[0;32m/ext3/miniconda3/lib/python3.9/site-packages/MDAnalysis/core/groups.py:387\u001b[0m, in \u001b[0;36m_MutableBase.__getattr__\u001b[0;34m(self, attr)\u001b[0m\n\u001b[1;32m    385\u001b[0m     match \u001b[39m=\u001b[39m _TOPOLOGY_ATTRNAMES[clean]\n\u001b[1;32m    386\u001b[0m     err \u001b[39m+\u001b[39m\u001b[39m=\u001b[39m \u001b[39m'\u001b[39m\u001b[39mDid you mean \u001b[39m\u001b[39m{match}\u001b[39;00m\u001b[39m?\u001b[39m\u001b[39m'\u001b[39m\u001b[39m.\u001b[39mformat(match\u001b[39m=\u001b[39mmatch)\n\u001b[0;32m--> 387\u001b[0m \u001b[39mraise\u001b[39;00m \u001b[39mAttributeError\u001b[39;00m(err)\n",
      "\u001b[0;31mAttributeError\u001b[0m: AtomGroup has no attribute describe. "
     ]
    }
   ],
   "source": [
    "prod_data['1.5'].atoms.describe()"
   ]
  },
  {
   "cell_type": "code",
   "execution_count": 4,
   "metadata": {},
   "outputs": [
    {
     "name": "stderr",
     "output_type": "stream",
     "text": [
      "/ext3/miniconda3/lib/python3.9/site-packages/tqdm/auto.py:22: TqdmWarning: IProgress not found. Please update jupyter and ipywidgets. See https://ipywidgets.readthedocs.io/en/stable/user_install.html\n",
      "  from .autonotebook import tqdm as notebook_tqdm\n"
     ]
    }
   ],
   "source": [
    "def cal_rdf_msd(lamp_path, dvd_path):\n",
    "    # Set up the Universe\n",
    "    u = MDAnalysis.Universe(lamp_path, dvd_path, format=\"LAMMPS\")\n",
    "    # Select atoms for RDF calculation\n",
    "    rdf_group = u.select_atoms(\"all\")\n",
    "    # Set up the RDF analysis\n",
    "    # The range of distances (r_range) and the number of bins (bins) can be adjusted as needed\n",
    "    rdf = MDAnalysis.analysis.rdf.InterRDF(rdf_group, rdf_group, nbins=150, range=(0.0, 15.0))\n",
    "    # Run the RDF analysis\n",
    "    rdf.run()\n",
    "    # For the MSD, select the atom group you are interested in\n",
    "    # Here we take all atoms, but you can choose a specific group\n",
    "    msd_group = u.select_atoms(\"all\")\n",
    "    # Set up the MSD analysis\n",
    "    # You can specify the 'start', 'stop', and 'step' arguments as needed\n",
    "    msd = MDAnalysis.analysis.msd.EinsteinMSD(msd_group, msd_selection='all')\n",
    "    # Run the MSD analysis\n",
    "    msd.run()\n",
    "return rdf.bins, rdf.rdf, msd.times, msd.msds\n",
    "\n",
    "# Now, plot the RDF\n",
    "import matplotlib.pyplot as plt\n",
    "\n",
    "plt.plot(rdf.bins, rdf.rdf)\n",
    "plt.xlabel('Distance (angstrom)')\n",
    "plt.ylabel('RDF')\n",
    "plt.title('Radial Distribution Function')\n",
    "plt.savefig('rdf_plot.png')\n",
    "plt.show()\n",
    "\n",
    "\n",
    "# Now, plot the MSD\n",
    "plt.plot(msd.times, msd.msds)\n",
    "plt.xlabel('Time (ps)')\n",
    "plt.ylabel('MSD (angstrom^2)')\n",
    "plt.title('Mean Squared Displacement')\n",
    "plt.savefig('msd_plot.png')\n",
    "plt.show()\n"
   ]
  },
  {
   "cell_type": "code",
   "execution_count": null,
   "metadata": {},
   "outputs": [],
   "source": []
  },
  {
   "cell_type": "code",
   "execution_count": null,
   "metadata": {},
   "outputs": [],
   "source": []
  },
  {
   "cell_type": "code",
   "execution_count": null,
   "metadata": {},
   "outputs": [],
   "source": []
  }
 ],
 "metadata": {
  "kernelspec": {
   "display_name": "lab_env_2023",
   "language": "python",
   "name": "lab_env_2023"
  },
  "language_info": {
   "codemirror_mode": {
    "name": "ipython",
    "version": 3
   },
   "file_extension": ".py",
   "mimetype": "text/x-python",
   "name": "python",
   "nbconvert_exporter": "python",
   "pygments_lexer": "ipython3",
   "version": "3.9.12"
  },
  "orig_nbformat": 4
 },
 "nbformat": 4,
 "nbformat_minor": 2
}
